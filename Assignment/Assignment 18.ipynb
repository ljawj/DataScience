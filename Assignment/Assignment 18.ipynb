{
 "cells": [
  {
   "cell_type": "code",
   "execution_count": 1,
   "metadata": {},
   "outputs": [],
   "source": [
    "import pandas as pd\n",
    "import seaborn as sns\n",
    "from sklearn.tree import DecisionTreeRegressor\n",
    "from sklearn.model_selection import train_test_split\n",
    "from sklearn import tree\n",
    "import graphviz"
   ]
  },
  {
   "cell_type": "code",
   "execution_count": 2,
   "metadata": {},
   "outputs": [],
   "source": [
    "diamonds = pd.read_csv(r\"..\\dataset\\diamonds.csv\")"
   ]
  },
  {
   "cell_type": "markdown",
   "metadata": {},
   "source": [
    "The x,y and z values in this dataset stand for length, width and depth in milimeters"
   ]
  },
  {
   "cell_type": "code",
   "execution_count": 3,
   "metadata": {},
   "outputs": [
    {
     "data": {
      "text/html": [
       "<div>\n",
       "<style scoped>\n",
       "    .dataframe tbody tr th:only-of-type {\n",
       "        vertical-align: middle;\n",
       "    }\n",
       "\n",
       "    .dataframe tbody tr th {\n",
       "        vertical-align: top;\n",
       "    }\n",
       "\n",
       "    .dataframe thead th {\n",
       "        text-align: right;\n",
       "    }\n",
       "</style>\n",
       "<table border=\"1\" class=\"dataframe\">\n",
       "  <thead>\n",
       "    <tr style=\"text-align: right;\">\n",
       "      <th></th>\n",
       "      <th>Unnamed: 0</th>\n",
       "      <th>carat</th>\n",
       "      <th>cut</th>\n",
       "      <th>color</th>\n",
       "      <th>clarity</th>\n",
       "      <th>depth</th>\n",
       "      <th>table</th>\n",
       "      <th>price</th>\n",
       "      <th>x</th>\n",
       "      <th>y</th>\n",
       "      <th>z</th>\n",
       "    </tr>\n",
       "  </thead>\n",
       "  <tbody>\n",
       "    <tr>\n",
       "      <th>0</th>\n",
       "      <td>1</td>\n",
       "      <td>0.23</td>\n",
       "      <td>Ideal</td>\n",
       "      <td>E</td>\n",
       "      <td>SI2</td>\n",
       "      <td>61.5</td>\n",
       "      <td>55.0</td>\n",
       "      <td>326</td>\n",
       "      <td>3.95</td>\n",
       "      <td>3.98</td>\n",
       "      <td>2.43</td>\n",
       "    </tr>\n",
       "    <tr>\n",
       "      <th>1</th>\n",
       "      <td>2</td>\n",
       "      <td>0.21</td>\n",
       "      <td>Premium</td>\n",
       "      <td>E</td>\n",
       "      <td>SI1</td>\n",
       "      <td>59.8</td>\n",
       "      <td>61.0</td>\n",
       "      <td>326</td>\n",
       "      <td>3.89</td>\n",
       "      <td>3.84</td>\n",
       "      <td>2.31</td>\n",
       "    </tr>\n",
       "    <tr>\n",
       "      <th>2</th>\n",
       "      <td>3</td>\n",
       "      <td>0.23</td>\n",
       "      <td>Good</td>\n",
       "      <td>E</td>\n",
       "      <td>VS1</td>\n",
       "      <td>56.9</td>\n",
       "      <td>65.0</td>\n",
       "      <td>327</td>\n",
       "      <td>4.05</td>\n",
       "      <td>4.07</td>\n",
       "      <td>2.31</td>\n",
       "    </tr>\n",
       "    <tr>\n",
       "      <th>3</th>\n",
       "      <td>4</td>\n",
       "      <td>0.29</td>\n",
       "      <td>Premium</td>\n",
       "      <td>I</td>\n",
       "      <td>VS2</td>\n",
       "      <td>62.4</td>\n",
       "      <td>58.0</td>\n",
       "      <td>334</td>\n",
       "      <td>4.20</td>\n",
       "      <td>4.23</td>\n",
       "      <td>2.63</td>\n",
       "    </tr>\n",
       "    <tr>\n",
       "      <th>4</th>\n",
       "      <td>5</td>\n",
       "      <td>0.31</td>\n",
       "      <td>Good</td>\n",
       "      <td>J</td>\n",
       "      <td>SI2</td>\n",
       "      <td>63.3</td>\n",
       "      <td>58.0</td>\n",
       "      <td>335</td>\n",
       "      <td>4.34</td>\n",
       "      <td>4.35</td>\n",
       "      <td>2.75</td>\n",
       "    </tr>\n",
       "  </tbody>\n",
       "</table>\n",
       "</div>"
      ],
      "text/plain": [
       "   Unnamed: 0  carat      cut color clarity  depth  table  price     x     y  \\\n",
       "0           1   0.23    Ideal     E     SI2   61.5   55.0    326  3.95  3.98   \n",
       "1           2   0.21  Premium     E     SI1   59.8   61.0    326  3.89  3.84   \n",
       "2           3   0.23     Good     E     VS1   56.9   65.0    327  4.05  4.07   \n",
       "3           4   0.29  Premium     I     VS2   62.4   58.0    334  4.20  4.23   \n",
       "4           5   0.31     Good     J     SI2   63.3   58.0    335  4.34  4.35   \n",
       "\n",
       "      z  \n",
       "0  2.43  \n",
       "1  2.31  \n",
       "2  2.31  \n",
       "3  2.63  \n",
       "4  2.75  "
      ]
     },
     "execution_count": 3,
     "metadata": {},
     "output_type": "execute_result"
    }
   ],
   "source": [
    "diamonds.head()"
   ]
  },
  {
   "cell_type": "code",
   "execution_count": 4,
   "metadata": {},
   "outputs": [
    {
     "name": "stdout",
     "output_type": "stream",
     "text": [
      "(37758, 11) (16182, 11)\n"
     ]
    }
   ],
   "source": [
    "diamond_train, diamond_test = train_test_split(diamonds, test_size=0.3, stratify=diamonds['color'], random_state=42)\n",
    "print(diamond_train.shape, diamond_test.shape)"
   ]
  },
  {
   "cell_type": "code",
   "execution_count": 6,
   "metadata": {},
   "outputs": [
    {
     "data": {
      "text/plain": [
       "DecisionTreeRegressor(max_depth=3)"
      ]
     },
     "execution_count": 6,
     "metadata": {},
     "output_type": "execute_result"
    }
   ],
   "source": [
    "features= ['carat']\n",
    "dt = DecisionTreeRegressor(max_depth = 3) # Increase max_depth to see effect in the plot\n",
    "dt.fit(diamond_train[features], diamond_train['price'])"
   ]
  },
  {
   "cell_type": "code",
   "execution_count": 8,
   "metadata": {},
   "outputs": [],
   "source": [
    "def plot_tree_regression(model, features):\n",
    "    # Generate plot data\n",
    "    dot_data = tree.export_graphviz(model, out_file=None, \n",
    "                          feature_names=features,  \n",
    "                          filled=True, rounded=True,  \n",
    "                          special_characters=True)  \n",
    "\n",
    "    # Turn into graph using graphviz\n",
    "    graph = graphviz.Source(dot_data)  \n",
    "\n",
    "    # Write out a pdf\n",
    "    graph.render(\"decision_tree\")\n",
    "\n",
    "    # Display in the notebook\n",
    "    return graph "
   ]
  },
  {
   "cell_type": "code",
   "execution_count": 9,
   "metadata": {},
   "outputs": [
    {
     "data": {
      "image/svg+xml": [
       "<?xml version=\"1.0\" encoding=\"UTF-8\" standalone=\"no\"?>\r\n",
       "<!DOCTYPE svg PUBLIC \"-//W3C//DTD SVG 1.1//EN\"\r\n",
       " \"http://www.w3.org/Graphics/SVG/1.1/DTD/svg11.dtd\">\r\n",
       "<!-- Generated by graphviz version 2.38.0 (20140413.2041)\r\n",
       " -->\r\n",
       "<!-- Title: Tree Pages: 1 -->\r\n",
       "<svg width=\"1260pt\" height=\"373pt\"\r\n",
       " viewBox=\"0.00 0.00 1260.00 373.00\" xmlns=\"http://www.w3.org/2000/svg\" xmlns:xlink=\"http://www.w3.org/1999/xlink\">\r\n",
       "<g id=\"graph0\" class=\"graph\" transform=\"scale(1 1) rotate(0) translate(4 369)\">\r\n",
       "<title>Tree</title>\r\n",
       "<polygon fill=\"white\" stroke=\"none\" points=\"-4,4 -4,-369 1256,-369 1256,4 -4,4\"/>\r\n",
       "<!-- 0 -->\r\n",
       "<g id=\"node1\" class=\"node\"><title>0</title>\r\n",
       "<path fill=\"#f9e3d3\" stroke=\"black\" d=\"M669.5,-365C669.5,-365 538.5,-365 538.5,-365 532.5,-365 526.5,-359 526.5,-353 526.5,-353 526.5,-309 526.5,-309 526.5,-303 532.5,-297 538.5,-297 538.5,-297 669.5,-297 669.5,-297 675.5,-297 681.5,-303 681.5,-309 681.5,-309 681.5,-353 681.5,-353 681.5,-359 675.5,-365 669.5,-365\"/>\r\n",
       "<text text-anchor=\"start\" x=\"562.5\" y=\"-349.8\" font-family=\"Helvetica,sans-Serif\" font-size=\"14.00\">carat ≤ 0.995</text>\r\n",
       "<text text-anchor=\"start\" x=\"534.5\" y=\"-334.8\" font-family=\"Helvetica,sans-Serif\" font-size=\"14.00\">mse = 15996474.874</text>\r\n",
       "<text text-anchor=\"start\" x=\"548\" y=\"-319.8\" font-family=\"Helvetica,sans-Serif\" font-size=\"14.00\">samples = 37758</text>\r\n",
       "<text text-anchor=\"start\" x=\"548.5\" y=\"-304.8\" font-family=\"Helvetica,sans-Serif\" font-size=\"14.00\">value = 3935.439</text>\r\n",
       "</g>\r\n",
       "<!-- 1 -->\r\n",
       "<g id=\"node2\" class=\"node\"><title>1</title>\r\n",
       "<path fill=\"#fdf7f3\" stroke=\"black\" d=\"M503,-261C503,-261 389,-261 389,-261 383,-261 377,-255 377,-249 377,-249 377,-205 377,-205 377,-199 383,-193 389,-193 389,-193 503,-193 503,-193 509,-193 515,-199 515,-205 515,-205 515,-249 515,-249 515,-255 509,-261 503,-261\"/>\r\n",
       "<text text-anchor=\"start\" x=\"404.5\" y=\"-245.8\" font-family=\"Helvetica,sans-Serif\" font-size=\"14.00\">carat ≤ 0.625</text>\r\n",
       "<text text-anchor=\"start\" x=\"385\" y=\"-230.8\" font-family=\"Helvetica,sans-Serif\" font-size=\"14.00\">mse = 1245324.72</text>\r\n",
       "<text text-anchor=\"start\" x=\"390\" y=\"-215.8\" font-family=\"Helvetica,sans-Serif\" font-size=\"14.00\">samples = 24422</text>\r\n",
       "<text text-anchor=\"start\" x=\"390.5\" y=\"-200.8\" font-family=\"Helvetica,sans-Serif\" font-size=\"14.00\">value = 1629.942</text>\r\n",
       "</g>\r\n",
       "<!-- 0&#45;&gt;1 -->\r\n",
       "<g id=\"edge1\" class=\"edge\"><title>0&#45;&gt;1</title>\r\n",
       "<path fill=\"none\" stroke=\"black\" d=\"M552.702,-296.884C537.724,-287.214 521.226,-276.563 505.772,-266.587\"/>\r\n",
       "<polygon fill=\"black\" stroke=\"black\" points=\"507.611,-263.608 497.311,-261.125 503.814,-269.489 507.611,-263.608\"/>\r\n",
       "<text text-anchor=\"middle\" x=\"502.575\" y=\"-281.864\" font-family=\"Helvetica,sans-Serif\" font-size=\"14.00\">True</text>\r\n",
       "</g>\r\n",
       "<!-- 8 -->\r\n",
       "<g id=\"node9\" class=\"node\"><title>8</title>\r\n",
       "<path fill=\"#f1bd97\" stroke=\"black\" d=\"M834.5,-261C834.5,-261 703.5,-261 703.5,-261 697.5,-261 691.5,-255 691.5,-249 691.5,-249 691.5,-205 691.5,-205 691.5,-199 697.5,-193 703.5,-193 703.5,-193 834.5,-193 834.5,-193 840.5,-193 846.5,-199 846.5,-205 846.5,-205 846.5,-249 846.5,-249 846.5,-255 840.5,-261 834.5,-261\"/>\r\n",
       "<text text-anchor=\"start\" x=\"727.5\" y=\"-245.8\" font-family=\"Helvetica,sans-Serif\" font-size=\"14.00\">carat ≤ 1.485</text>\r\n",
       "<text text-anchor=\"start\" x=\"699.5\" y=\"-230.8\" font-family=\"Helvetica,sans-Serif\" font-size=\"14.00\">mse = 15450720.955</text>\r\n",
       "<text text-anchor=\"start\" x=\"713\" y=\"-215.8\" font-family=\"Helvetica,sans-Serif\" font-size=\"14.00\">samples = 13336</text>\r\n",
       "<text text-anchor=\"start\" x=\"713.5\" y=\"-200.8\" font-family=\"Helvetica,sans-Serif\" font-size=\"14.00\">value = 8157.458</text>\r\n",
       "</g>\r\n",
       "<!-- 0&#45;&gt;8 -->\r\n",
       "<g id=\"edge8\" class=\"edge\"><title>0&#45;&gt;8</title>\r\n",
       "<path fill=\"none\" stroke=\"black\" d=\"M657.571,-296.884C673.212,-287.214 690.441,-276.563 706.58,-266.587\"/>\r\n",
       "<polygon fill=\"black\" stroke=\"black\" points=\"708.75,-269.36 715.416,-261.125 705.07,-263.406 708.75,-269.36\"/>\r\n",
       "<text text-anchor=\"middle\" x=\"709.675\" y=\"-281.757\" font-family=\"Helvetica,sans-Serif\" font-size=\"14.00\">False</text>\r\n",
       "</g>\r\n",
       "<!-- 2 -->\r\n",
       "<g id=\"node3\" class=\"node\"><title>2</title>\r\n",
       "<path fill=\"#fffdfb\" stroke=\"black\" d=\"M272,-157C272,-157 158,-157 158,-157 152,-157 146,-151 146,-145 146,-145 146,-101 146,-101 146,-95 152,-89 158,-89 158,-89 272,-89 272,-89 278,-89 284,-95 284,-101 284,-101 284,-145 284,-145 284,-151 278,-157 272,-157\"/>\r\n",
       "<text text-anchor=\"start\" x=\"173.5\" y=\"-141.8\" font-family=\"Helvetica,sans-Serif\" font-size=\"14.00\">carat ≤ 0.455</text>\r\n",
       "<text text-anchor=\"start\" x=\"154\" y=\"-126.8\" font-family=\"Helvetica,sans-Serif\" font-size=\"14.00\">mse = 260931.184</text>\r\n",
       "<text text-anchor=\"start\" x=\"159\" y=\"-111.8\" font-family=\"Helvetica,sans-Serif\" font-size=\"14.00\">samples = 17344</text>\r\n",
       "<text text-anchor=\"start\" x=\"159.5\" y=\"-96.8\" font-family=\"Helvetica,sans-Serif\" font-size=\"14.00\">value = 1048.204</text>\r\n",
       "</g>\r\n",
       "<!-- 1&#45;&gt;2 -->\r\n",
       "<g id=\"edge2\" class=\"edge\"><title>1&#45;&gt;2</title>\r\n",
       "<path fill=\"none\" stroke=\"black\" d=\"M376.692,-195.397C350.539,-183.848 320.602,-170.63 293.655,-158.731\"/>\r\n",
       "<polygon fill=\"black\" stroke=\"black\" points=\"294.82,-155.419 284.259,-154.582 291.993,-161.823 294.82,-155.419\"/>\r\n",
       "</g>\r\n",
       "<!-- 5 -->\r\n",
       "<g id=\"node6\" class=\"node\"><title>5</title>\r\n",
       "<path fill=\"#fbebdf\" stroke=\"black\" d=\"M503,-157C503,-157 389,-157 389,-157 383,-157 377,-151 377,-145 377,-145 377,-101 377,-101 377,-95 383,-89 389,-89 389,-89 503,-89 503,-89 509,-89 515,-95 515,-101 515,-101 515,-145 515,-145 515,-151 509,-157 503,-157\"/>\r\n",
       "<text text-anchor=\"start\" x=\"404.5\" y=\"-141.8\" font-family=\"Helvetica,sans-Serif\" font-size=\"14.00\">carat ≤ 0.865</text>\r\n",
       "<text text-anchor=\"start\" x=\"385\" y=\"-126.8\" font-family=\"Helvetica,sans-Serif\" font-size=\"14.00\">mse = 796185.841</text>\r\n",
       "<text text-anchor=\"start\" x=\"394.5\" y=\"-111.8\" font-family=\"Helvetica,sans-Serif\" font-size=\"14.00\">samples = 7078</text>\r\n",
       "<text text-anchor=\"start\" x=\"390.5\" y=\"-96.8\" font-family=\"Helvetica,sans-Serif\" font-size=\"14.00\">value = 3055.439</text>\r\n",
       "</g>\r\n",
       "<!-- 1&#45;&gt;5 -->\r\n",
       "<g id=\"edge5\" class=\"edge\"><title>1&#45;&gt;5</title>\r\n",
       "<path fill=\"none\" stroke=\"black\" d=\"M446,-192.884C446,-184.778 446,-175.982 446,-167.472\"/>\r\n",
       "<polygon fill=\"black\" stroke=\"black\" points=\"449.5,-167.299 446,-157.299 442.5,-167.299 449.5,-167.299\"/>\r\n",
       "</g>\r\n",
       "<!-- 3 -->\r\n",
       "<g id=\"node4\" class=\"node\"><title>3</title>\r\n",
       "<path fill=\"#ffffff\" stroke=\"black\" d=\"M116,-53C116,-53 12,-53 12,-53 6,-53 0,-47 0,-41 0,-41 0,-12 0,-12 0,-6 6,-0 12,-0 12,-0 116,-0 116,-0 122,-0 128,-6 128,-12 128,-12 128,-41 128,-41 128,-47 122,-53 116,-53\"/>\r\n",
       "<text text-anchor=\"start\" x=\"11\" y=\"-37.8\" font-family=\"Helvetica,sans-Serif\" font-size=\"14.00\">mse = 53876.43</text>\r\n",
       "<text text-anchor=\"start\" x=\"8\" y=\"-22.8\" font-family=\"Helvetica,sans-Serif\" font-size=\"14.00\">samples = 12129</text>\r\n",
       "<text text-anchor=\"start\" x=\"12.5\" y=\"-7.8\" font-family=\"Helvetica,sans-Serif\" font-size=\"14.00\">value = 782.641</text>\r\n",
       "</g>\r\n",
       "<!-- 2&#45;&gt;3 -->\r\n",
       "<g id=\"edge3\" class=\"edge\"><title>2&#45;&gt;3</title>\r\n",
       "<path fill=\"none\" stroke=\"black\" d=\"M162.188,-88.9485C146.547,-79.1601 129.474,-68.4756 114.016,-58.8015\"/>\r\n",
       "<polygon fill=\"black\" stroke=\"black\" points=\"115.458,-55.5749 105.124,-53.2367 111.744,-61.5087 115.458,-55.5749\"/>\r\n",
       "</g>\r\n",
       "<!-- 4 -->\r\n",
       "<g id=\"node5\" class=\"node\"><title>4</title>\r\n",
       "<path fill=\"#fdf7f3\" stroke=\"black\" d=\"M272,-53C272,-53 158,-53 158,-53 152,-53 146,-47 146,-41 146,-41 146,-12 146,-12 146,-6 152,-0 158,-0 158,-0 272,-0 272,-0 278,-0 284,-6 284,-12 284,-12 284,-41 284,-41 284,-47 278,-53 272,-53\"/>\r\n",
       "<text text-anchor=\"start\" x=\"154\" y=\"-37.8\" font-family=\"Helvetica,sans-Serif\" font-size=\"14.00\">mse = 196991.586</text>\r\n",
       "<text text-anchor=\"start\" x=\"163.5\" y=\"-22.8\" font-family=\"Helvetica,sans-Serif\" font-size=\"14.00\">samples = 5215</text>\r\n",
       "<text text-anchor=\"start\" x=\"159.5\" y=\"-7.8\" font-family=\"Helvetica,sans-Serif\" font-size=\"14.00\">value = 1665.847</text>\r\n",
       "</g>\r\n",
       "<!-- 2&#45;&gt;4 -->\r\n",
       "<g id=\"edge4\" class=\"edge\"><title>2&#45;&gt;4</title>\r\n",
       "<path fill=\"none\" stroke=\"black\" d=\"M215,-88.9485C215,-80.7153 215,-71.848 215,-63.4814\"/>\r\n",
       "<polygon fill=\"black\" stroke=\"black\" points=\"218.5,-63.2367 215,-53.2367 211.5,-63.2367 218.5,-63.2367\"/>\r\n",
       "</g>\r\n",
       "<!-- 6 -->\r\n",
       "<g id=\"node7\" class=\"node\"><title>6</title>\r\n",
       "<path fill=\"#fbeee4\" stroke=\"black\" d=\"M428,-53C428,-53 314,-53 314,-53 308,-53 302,-47 302,-41 302,-41 302,-12 302,-12 302,-6 308,-0 314,-0 314,-0 428,-0 428,-0 434,-0 440,-6 440,-12 440,-12 440,-41 440,-41 440,-47 434,-53 428,-53\"/>\r\n",
       "<text text-anchor=\"start\" x=\"310\" y=\"-37.8\" font-family=\"Helvetica,sans-Serif\" font-size=\"14.00\">mse = 414072.077</text>\r\n",
       "<text text-anchor=\"start\" x=\"319.5\" y=\"-22.8\" font-family=\"Helvetica,sans-Serif\" font-size=\"14.00\">samples = 5100</text>\r\n",
       "<text text-anchor=\"start\" x=\"315.5\" y=\"-7.8\" font-family=\"Helvetica,sans-Serif\" font-size=\"14.00\">value = 2712.484</text>\r\n",
       "</g>\r\n",
       "<!-- 5&#45;&gt;6 -->\r\n",
       "<g id=\"edge6\" class=\"edge\"><title>5&#45;&gt;6</title>\r\n",
       "<path fill=\"none\" stroke=\"black\" d=\"M419.769,-88.9485C412.654,-79.9834 404.942,-70.2666 397.796,-61.2629\"/>\r\n",
       "<polygon fill=\"black\" stroke=\"black\" points=\"400.384,-58.8938 391.426,-53.2367 394.901,-63.2454 400.384,-58.8938\"/>\r\n",
       "</g>\r\n",
       "<!-- 7 -->\r\n",
       "<g id=\"node8\" class=\"node\"><title>7</title>\r\n",
       "<path fill=\"#f9e3d3\" stroke=\"black\" d=\"M584,-53C584,-53 470,-53 470,-53 464,-53 458,-47 458,-41 458,-41 458,-12 458,-12 458,-6 464,-0 470,-0 470,-0 584,-0 584,-0 590,-0 596,-6 596,-12 596,-12 596,-41 596,-41 596,-47 590,-53 584,-53\"/>\r\n",
       "<text text-anchor=\"start\" x=\"466\" y=\"-37.8\" font-family=\"Helvetica,sans-Serif\" font-size=\"14.00\">mse = 696231.722</text>\r\n",
       "<text text-anchor=\"start\" x=\"475.5\" y=\"-22.8\" font-family=\"Helvetica,sans-Serif\" font-size=\"14.00\">samples = 1978</text>\r\n",
       "<text text-anchor=\"start\" x=\"471.5\" y=\"-7.8\" font-family=\"Helvetica,sans-Serif\" font-size=\"14.00\">value = 3939.701</text>\r\n",
       "</g>\r\n",
       "<!-- 5&#45;&gt;7 -->\r\n",
       "<g id=\"edge7\" class=\"edge\"><title>5&#45;&gt;7</title>\r\n",
       "<path fill=\"none\" stroke=\"black\" d=\"M474.33,-88.9485C482.093,-79.892 490.513,-70.0682 498.296,-60.9875\"/>\r\n",
       "<polygon fill=\"black\" stroke=\"black\" points=\"501.089,-63.1071 504.94,-53.2367 495.775,-58.5515 501.089,-63.1071\"/>\r\n",
       "</g>\r\n",
       "<!-- 9 -->\r\n",
       "<g id=\"node10\" class=\"node\"><title>9</title>\r\n",
       "<path fill=\"#f5cfb4\" stroke=\"black\" d=\"M830,-157C830,-157 708,-157 708,-157 702,-157 696,-151 696,-145 696,-145 696,-101 696,-101 696,-95 702,-89 708,-89 708,-89 830,-89 830,-89 836,-89 842,-95 842,-101 842,-101 842,-145 842,-145 842,-151 836,-157 830,-157\"/>\r\n",
       "<text text-anchor=\"start\" x=\"727.5\" y=\"-141.8\" font-family=\"Helvetica,sans-Serif\" font-size=\"14.00\">carat ≤ 1.175</text>\r\n",
       "<text text-anchor=\"start\" x=\"704\" y=\"-126.8\" font-family=\"Helvetica,sans-Serif\" font-size=\"14.00\">mse = 4806444.169</text>\r\n",
       "<text text-anchor=\"start\" x=\"717.5\" y=\"-111.8\" font-family=\"Helvetica,sans-Serif\" font-size=\"14.00\">samples = 8940</text>\r\n",
       "<text text-anchor=\"start\" x=\"713.5\" y=\"-96.8\" font-family=\"Helvetica,sans-Serif\" font-size=\"14.00\">value = 6143.962</text>\r\n",
       "</g>\r\n",
       "<!-- 8&#45;&gt;9 -->\r\n",
       "<g id=\"edge9\" class=\"edge\"><title>8&#45;&gt;9</title>\r\n",
       "<path fill=\"none\" stroke=\"black\" d=\"M769,-192.884C769,-184.778 769,-175.982 769,-167.472\"/>\r\n",
       "<polygon fill=\"black\" stroke=\"black\" points=\"772.5,-167.299 769,-157.299 765.5,-167.299 772.5,-167.299\"/>\r\n",
       "</g>\r\n",
       "<!-- 12 -->\r\n",
       "<g id=\"node13\" class=\"node\"><title>12</title>\r\n",
       "<path fill=\"#ea985e\" stroke=\"black\" d=\"M1076,-157C1076,-157 954,-157 954,-157 948,-157 942,-151 942,-145 942,-145 942,-101 942,-101 942,-95 948,-89 954,-89 954,-89 1076,-89 1076,-89 1082,-89 1088,-95 1088,-101 1088,-101 1088,-145 1088,-145 1088,-151 1082,-157 1076,-157\"/>\r\n",
       "<text text-anchor=\"start\" x=\"973.5\" y=\"-141.8\" font-family=\"Helvetica,sans-Serif\" font-size=\"14.00\">carat ≤ 1.905</text>\r\n",
       "<text text-anchor=\"start\" x=\"950\" y=\"-126.8\" font-family=\"Helvetica,sans-Serif\" font-size=\"14.00\">mse = 12085600.32</text>\r\n",
       "<text text-anchor=\"start\" x=\"963.5\" y=\"-111.8\" font-family=\"Helvetica,sans-Serif\" font-size=\"14.00\">samples = 4396</text>\r\n",
       "<text text-anchor=\"start\" x=\"955.5\" y=\"-96.8\" font-family=\"Helvetica,sans-Serif\" font-size=\"14.00\">value = 12252.237</text>\r\n",
       "</g>\r\n",
       "<!-- 8&#45;&gt;12 -->\r\n",
       "<g id=\"edge12\" class=\"edge\"><title>8&#45;&gt;12</title>\r\n",
       "<path fill=\"none\" stroke=\"black\" d=\"M846.836,-193.727C874.153,-182.4 904.921,-169.643 932.599,-158.166\"/>\r\n",
       "<polygon fill=\"black\" stroke=\"black\" points=\"933.961,-161.391 941.858,-154.327 931.28,-154.924 933.961,-161.391\"/>\r\n",
       "</g>\r\n",
       "<!-- 10 -->\r\n",
       "<g id=\"node11\" class=\"node\"><title>10</title>\r\n",
       "<path fill=\"#f6d3ba\" stroke=\"black\" d=\"M748,-53C748,-53 626,-53 626,-53 620,-53 614,-47 614,-41 614,-41 614,-12 614,-12 614,-6 620,-0 626,-0 626,-0 748,-0 748,-0 754,-0 760,-6 760,-12 760,-12 760,-41 760,-41 760,-47 754,-53 748,-53\"/>\r\n",
       "<text text-anchor=\"start\" x=\"622\" y=\"-37.8\" font-family=\"Helvetica,sans-Serif\" font-size=\"14.00\">mse = 3676358.078</text>\r\n",
       "<text text-anchor=\"start\" x=\"635.5\" y=\"-22.8\" font-family=\"Helvetica,sans-Serif\" font-size=\"14.00\">samples = 6264</text>\r\n",
       "<text text-anchor=\"start\" x=\"631.5\" y=\"-7.8\" font-family=\"Helvetica,sans-Serif\" font-size=\"14.00\">value = 5673.514</text>\r\n",
       "</g>\r\n",
       "<!-- 9&#45;&gt;10 -->\r\n",
       "<g id=\"edge10\" class=\"edge\"><title>9&#45;&gt;10</title>\r\n",
       "<path fill=\"none\" stroke=\"black\" d=\"M740.32,-88.9485C732.462,-79.892 723.938,-70.0682 716.058,-60.9875\"/>\r\n",
       "<polygon fill=\"black\" stroke=\"black\" points=\"718.53,-58.4958 709.332,-53.2367 713.243,-63.0835 718.53,-58.4958\"/>\r\n",
       "</g>\r\n",
       "<!-- 11 -->\r\n",
       "<g id=\"node12\" class=\"node\"><title>11</title>\r\n",
       "<path fill=\"#f3c5a4\" stroke=\"black\" d=\"M912,-53C912,-53 790,-53 790,-53 784,-53 778,-47 778,-41 778,-41 778,-12 778,-12 778,-6 784,-0 790,-0 790,-0 912,-0 912,-0 918,-0 924,-6 924,-12 924,-12 924,-41 924,-41 924,-47 918,-53 912,-53\"/>\r\n",
       "<text text-anchor=\"start\" x=\"786\" y=\"-37.8\" font-family=\"Helvetica,sans-Serif\" font-size=\"14.00\">mse = 5720983.332</text>\r\n",
       "<text text-anchor=\"start\" x=\"799.5\" y=\"-22.8\" font-family=\"Helvetica,sans-Serif\" font-size=\"14.00\">samples = 2676</text>\r\n",
       "<text text-anchor=\"start\" x=\"795.5\" y=\"-7.8\" font-family=\"Helvetica,sans-Serif\" font-size=\"14.00\">value = 7245.191</text>\r\n",
       "</g>\r\n",
       "<!-- 9&#45;&gt;11 -->\r\n",
       "<g id=\"edge11\" class=\"edge\"><title>9&#45;&gt;11</title>\r\n",
       "<path fill=\"none\" stroke=\"black\" d=\"M797.68,-88.9485C805.538,-79.892 814.062,-70.0682 821.942,-60.9875\"/>\r\n",
       "<polygon fill=\"black\" stroke=\"black\" points=\"824.757,-63.0835 828.668,-53.2367 819.47,-58.4958 824.757,-63.0835\"/>\r\n",
       "</g>\r\n",
       "<!-- 13 -->\r\n",
       "<g id=\"node14\" class=\"node\"><title>13</title>\r\n",
       "<path fill=\"#eca571\" stroke=\"black\" d=\"M1076,-53C1076,-53 954,-53 954,-53 948,-53 942,-47 942,-41 942,-41 942,-12 942,-12 942,-6 948,-0 954,-0 954,-0 1076,-0 1076,-0 1082,-0 1088,-6 1088,-12 1088,-12 1088,-41 1088,-41 1088,-47 1082,-53 1076,-53\"/>\r\n",
       "<text text-anchor=\"start\" x=\"950\" y=\"-37.8\" font-family=\"Helvetica,sans-Serif\" font-size=\"14.00\">mse = 8843834.255</text>\r\n",
       "<text text-anchor=\"start\" x=\"963.5\" y=\"-22.8\" font-family=\"Helvetica,sans-Serif\" font-size=\"14.00\">samples = 2848</text>\r\n",
       "<text text-anchor=\"start\" x=\"959.5\" y=\"-7.8\" font-family=\"Helvetica,sans-Serif\" font-size=\"14.00\">value = 10840.77</text>\r\n",
       "</g>\r\n",
       "<!-- 12&#45;&gt;13 -->\r\n",
       "<g id=\"edge13\" class=\"edge\"><title>12&#45;&gt;13</title>\r\n",
       "<path fill=\"none\" stroke=\"black\" d=\"M1015,-88.9485C1015,-80.7153 1015,-71.848 1015,-63.4814\"/>\r\n",
       "<polygon fill=\"black\" stroke=\"black\" points=\"1018.5,-63.2367 1015,-53.2367 1011.5,-63.2367 1018.5,-63.2367\"/>\r\n",
       "</g>\r\n",
       "<!-- 14 -->\r\n",
       "<g id=\"node15\" class=\"node\"><title>14</title>\r\n",
       "<path fill=\"#e58139\" stroke=\"black\" d=\"M1240,-53C1240,-53 1118,-53 1118,-53 1112,-53 1106,-47 1106,-41 1106,-41 1106,-12 1106,-12 1106,-6 1112,-0 1118,-0 1118,-0 1240,-0 1240,-0 1246,-0 1252,-6 1252,-12 1252,-12 1252,-41 1252,-41 1252,-47 1246,-53 1240,-53\"/>\r\n",
       "<text text-anchor=\"start\" x=\"1114\" y=\"-37.8\" font-family=\"Helvetica,sans-Serif\" font-size=\"14.00\">mse = 7641060.326</text>\r\n",
       "<text text-anchor=\"start\" x=\"1127.5\" y=\"-22.8\" font-family=\"Helvetica,sans-Serif\" font-size=\"14.00\">samples = 1548</text>\r\n",
       "<text text-anchor=\"start\" x=\"1119.5\" y=\"-7.8\" font-family=\"Helvetica,sans-Serif\" font-size=\"14.00\">value = 14849.045</text>\r\n",
       "</g>\r\n",
       "<!-- 12&#45;&gt;14 -->\r\n",
       "<g id=\"edge14\" class=\"edge\"><title>12&#45;&gt;14</title>\r\n",
       "<path fill=\"none\" stroke=\"black\" d=\"M1072.36,-88.9485C1089.74,-78.9318 1108.75,-67.9767 1125.85,-58.1263\"/>\r\n",
       "<polygon fill=\"black\" stroke=\"black\" points=\"1127.68,-61.112 1134.6,-53.0867 1124.18,-55.0468 1127.68,-61.112\"/>\r\n",
       "</g>\r\n",
       "</g>\r\n",
       "</svg>\r\n"
      ],
      "text/plain": [
       "<graphviz.files.Source at 0x24348e2eaf0>"
      ]
     },
     "execution_count": 9,
     "metadata": {},
     "output_type": "execute_result"
    }
   ],
   "source": [
    "plot_tree_regression(dt, features)"
   ]
  },
  {
   "cell_type": "markdown",
   "metadata": {},
   "source": [
    "Aangezien de prijs zeer groot kan zijn, zijn sommige MSE veel hoger dan andere. Mijn voorspelling is dat de RSME rond de 20% zal liggen."
   ]
  },
  {
   "cell_type": "code",
   "execution_count": 10,
   "metadata": {},
   "outputs": [],
   "source": [
    "def calculate_rmse(predictions, actuals):\n",
    "    if(len(predictions) != len(actuals)):\n",
    "        raise Exception(\"The amount of predictions did not equal the amount of actuals\")\n",
    "    \n",
    "    return (((predictions - actuals) ** 2).sum() / len(actuals)) ** (1/2)"
   ]
  },
  {
   "cell_type": "code",
   "execution_count": 12,
   "metadata": {},
   "outputs": [
    {
     "data": {
      "text/plain": [
       "3932.799721913237"
      ]
     },
     "execution_count": 12,
     "metadata": {},
     "output_type": "execute_result"
    }
   ],
   "source": [
    "diamonds[\"price\"].mean()"
   ]
  },
  {
   "cell_type": "code",
   "execution_count": 11,
   "metadata": {},
   "outputs": [
    {
     "name": "stdout",
     "output_type": "stream",
     "text": [
      "RMSE on training set 1460.348240077248\n",
      "RMSE on test set 1440.4367517880214\n"
     ]
    }
   ],
   "source": [
    "predictionsOnTrainset = dt.predict(diamond_train[features])\n",
    "predictionsOnTestset = dt.predict(diamond_test[features])\n",
    "\n",
    "rmseTrain = calculate_rmse(predictionsOnTrainset, diamond_train.price)\n",
    "rmseTest = calculate_rmse(predictionsOnTestset, diamond_test.price)\n",
    "\n",
    "print(\"RMSE on training set \" + str(rmseTrain))\n",
    "print(\"RMSE on test set \" + str(rmseTest))"
   ]
  },
  {
   "cell_type": "markdown",
   "metadata": {},
   "source": [
    "De RMSE is 1440. Dit betekent dat de voorspellingen op de test groep ongeveer 1400 van het gemiddelde van alle price waardes liggen. De mean van de price is 3932. Dit betekent dat de RMSE ongeveer 36.6% verschil heeft, wat veel hoger is dan ik dacht. Dit betekent dat je vanuit de carat wel een beetje de price kan predicten, maar dat er veel meer invloeden zijn op de price."
   ]
  }
 ],
 "metadata": {
  "kernelspec": {
   "display_name": "Python 3",
   "language": "python",
   "name": "python3"
  },
  "language_info": {
   "codemirror_mode": {
    "name": "ipython",
    "version": 3
   },
   "file_extension": ".py",
   "mimetype": "text/x-python",
   "name": "python",
   "nbconvert_exporter": "python",
   "pygments_lexer": "ipython3",
   "version": "3.8.5"
  }
 },
 "nbformat": 4,
 "nbformat_minor": 4
}
